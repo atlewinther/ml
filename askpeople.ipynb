{
 "cells": [
  {
   "cell_type": "code",
   "execution_count": 27,
   "id": "12e37fa7",
   "metadata": {},
   "outputs": [],
   "source": [
    "# pip install people_also_ask\n",
    "import people_also_ask"
   ]
  },
  {
   "cell_type": "code",
   "execution_count": 28,
   "id": "c797b423",
   "metadata": {},
   "outputs": [
    {
     "data": {
      "text/plain": [
       "['What Houdini means?',\n",
       " 'What is Houdini known for?',\n",
       " 'How long did Houdini stay under water?',\n",
       " 'What is Harry Houdini famous for?',\n",
       " 'How did Houdini become famous?',\n",
       " 'How did Houdini died?',\n",
       " 'How did Houdini hold his breath?',\n",
       " 'Which magician died in a water tank?',\n",
       " 'How did Houdini get out of water?',\n",
       " 'Why was Harry Houdini a hero?',\n",
       " 'What magician died on stage?']"
      ]
     },
     "execution_count": 28,
     "metadata": {},
     "output_type": "execute_result"
    }
   ],
   "source": [
    "people_also_ask.get_related_questions(\"houdini\", 10)"
   ]
  },
  {
   "cell_type": "code",
   "execution_count": 29,
   "id": "311db533",
   "metadata": {},
   "outputs": [
    {
     "data": {
      "text/plain": [
       "['__builtins__',\n",
       " '__cached__',\n",
       " '__doc__',\n",
       " '__file__',\n",
       " '__loader__',\n",
       " '__name__',\n",
       " '__package__',\n",
       " '__path__',\n",
       " '__spec__',\n",
       " 'exceptions',\n",
       " 'generate_answer',\n",
       " 'generate_related_questions',\n",
       " 'get_answer',\n",
       " 'get_related_questions',\n",
       " 'get_simple_answer',\n",
       " 'google',\n",
       " 'parser',\n",
       " 'tools']"
      ]
     },
     "execution_count": 29,
     "metadata": {},
     "output_type": "execute_result"
    }
   ],
   "source": [
    "dir(people_also_ask)"
   ]
  },
  {
   "cell_type": "code",
   "execution_count": 35,
   "id": "f106eedc",
   "metadata": {},
   "outputs": [
    {
     "data": {
      "text/plain": [
       "{'has_answer': True,\n",
       " 'question': 'hscript in houdini',\n",
       " 'related_questions': [],\n",
       " 'response': \"HScript is Houdini's legacy scripting language. HScript is still available in Houdini for compatibility with older files and scripts. For new scripts, we recommend you use the scripting API instead. Expansion of a Houdini command follows the C shell expansion standards very closely.\",\n",
       " 'heading': \"HScript is Houdini's legacy scripting language. HScript is still available in Houdini for compatibility with older files and scripts. For new scripts, we recommend you use the scripting API instead. Expansion of a Houdini command follows the C shell expansion standards very closely.\",\n",
       " 'title': 'HScript commands - SideFX',\n",
       " 'link': \"https://www.sidefx.com/docs/houdini/commands/index.html#:~:text=HScript%20is%20Houdini's%20legacy%20scripting,shell%20expansion%20standards%20very%20closely.\",\n",
       " 'displayed_link': 'https://www.sidefx.com › docs › houdini › commands',\n",
       " 'snippet_str': \"HScript is Houdini's legacy scripting language. HScript is still available in Houdini for compatibility with older files and scripts. For new scripts, we recommend you use the scripting API instead. Expansion of a Houdini command follows the C shell expansion standards very closely.\\nhttps://www.sidefx.com › docs › houdini › commands\\nhttps://www.sidefx.com/docs/houdini/commands/index.html#:~:text=HScript%20is%20Houdini's%20legacy%20scripting,shell%20expansion%20standards%20very%20closely.\\nHScript commands - SideFX\",\n",
       " 'snippet_data': None,\n",
       " 'date': None,\n",
       " 'snippet_type': 'Definition Featured Snippet',\n",
       " 'snippet_str_body': '',\n",
       " 'raw_text': \"Featured snippet from the web\\nHScript is \\nHoudini's legacy scripting language\\n. HScript is still available in Houdini for compatibility with older files and scripts. For new scripts, we recommend you use the scripting API instead. Expansion of a Houdini command follows the C shell expansion standards very closely.\\nHScript commands - SideFX\\nhttps://www.sidefx.com\\n › docs › houdini › commands\"}"
      ]
     },
     "execution_count": 35,
     "metadata": {},
     "output_type": "execute_result"
    }
   ],
   "source": [
    "people_also_ask.get_answer(\"hscript in houdini\")"
   ]
  },
  {
   "cell_type": "code",
   "execution_count": 32,
   "id": "162893a9",
   "metadata": {},
   "outputs": [
    {
     "data": {
      "text/plain": [
       "['What VEX is used for in Houdini?',\n",
       " 'Is vex easy to learn?',\n",
       " 'What language is Houdini vex?',\n",
       " 'What is Houdini coding language?']"
      ]
     },
     "execution_count": 32,
     "metadata": {},
     "output_type": "execute_result"
    }
   ],
   "source": [
    "people_also_ask.get_related_questions(\"houdini vex\")"
   ]
  },
  {
   "cell_type": "code",
   "execution_count": null,
   "id": "246fa2a5",
   "metadata": {},
   "outputs": [],
   "source": []
  }
 ],
 "metadata": {
  "kernelspec": {
   "display_name": "Python 3",
   "language": "python",
   "name": "python3"
  },
  "language_info": {
   "codemirror_mode": {
    "name": "ipython",
    "version": 3
   },
   "file_extension": ".py",
   "mimetype": "text/x-python",
   "name": "python",
   "nbconvert_exporter": "python",
   "pygments_lexer": "ipython3",
   "version": "3.9.2"
  }
 },
 "nbformat": 4,
 "nbformat_minor": 5
}
